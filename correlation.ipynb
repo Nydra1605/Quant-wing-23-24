{
 "cells": [
  {
   "cell_type": "code",
   "execution_count": 5,
   "metadata": {},
   "outputs": [],
   "source": [
    "import yfinance as yf\n",
    "import pandas as pd"
   ]
  },
  {
   "cell_type": "code",
   "execution_count": 1,
   "metadata": {},
   "outputs": [],
   "source": [
    "def get_stock_data(ticker, start_date, end_date):\n",
    "    data = yf.download(ticker, start=start_date, end=end_date, progress=False)\n",
    "    return data['Adj Close'].pct_change().dropna()\n"
   ]
  },
  {
   "cell_type": "code",
   "execution_count": 2,
   "metadata": {},
   "outputs": [],
   "source": [
    "nifty_top_20_stocks = [\"RELIANCE.NS\", \"TCS.NS\", \"HDFCBANK.NS\", \"INFY.NS\", \"HINDUNILVR.NS\", \"ITC.NS\", \"SBIN.NS\", \"KOTAKBANK.NS\", \"IOC.NS\", \"ASIANPAINT.NS\", \"BHARTIARTL.NS\", \"WIPRO.NS\", \"ONGC.NS\", \"LT.NS\", \"ICICIBANK.NS\", \"HCLTECH.NS\", \"AXISBANK.NS\", \"NTPC.NS\", \"ULTRACEMCO.NS\", \"SUNPHARMA.NS\"]\n",
    "start_date = \"2022-01-01\"\n",
    "end_date = \"2023-01-01\""
   ]
  },
  {
   "cell_type": "code",
   "execution_count": 6,
   "metadata": {},
   "outputs": [],
   "source": [
    "\n",
    "returns_df = pd.DataFrame()\n",
    "for stock_ticker in nifty_top_20_stocks:\n",
    "    returns_df[stock_ticker] = get_stock_data(stock_ticker, start_date, end_date)"
   ]
  },
  {
   "cell_type": "code",
   "execution_count": 7,
   "metadata": {},
   "outputs": [],
   "source": [
    "correlation_matrix = returns_df.corr()\n",
    "most_uncorrelated_stocks = correlation_matrix.abs().mean().sort_values().index[:5]"
   ]
  },
  {
   "cell_type": "code",
   "execution_count": 8,
   "metadata": {},
   "outputs": [
    {
     "name": "stdout",
     "output_type": "stream",
     "text": [
      "5 Most Uncorrelated Stocks based on Returns:\n",
      "Index(['ONGC.NS', 'NTPC.NS', 'SUNPHARMA.NS', 'ITC.NS', 'IOC.NS'], dtype='object')\n"
     ]
    }
   ],
   "source": [
    "print(\"5 Most Uncorrelated Stocks based on Returns:\")\n",
    "print(most_uncorrelated_stocks)\n"
   ]
  }
 ],
 "metadata": {
  "kernelspec": {
   "display_name": "Python 3",
   "language": "python",
   "name": "python3"
  },
  "language_info": {
   "codemirror_mode": {
    "name": "ipython",
    "version": 3
   },
   "file_extension": ".py",
   "mimetype": "text/x-python",
   "name": "python",
   "nbconvert_exporter": "python",
   "pygments_lexer": "ipython3",
   "version": "3.10.10"
  }
 },
 "nbformat": 4,
 "nbformat_minor": 2
}
